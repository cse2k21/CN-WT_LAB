from sklearn.model_selection import train_test_split
from sklearn.neighbors import KNeighborsClassifier
from sklearn import datasets

iris = datasets.load_iris()
x = iris.data
y = iris.target

print('sepal-length','sepal-width','petal-length','petal-width')
print(x)
print('class: 0-Iris-setosa, 1-Iris-versicolour, 2-Iris-Virginica')
print(y)

#to train the model and Nearest neighbour k=5
x_train,x_test,y_train,y_test=train_test_split(x,y,test_size=0.3)
classifier = KNeighborsClassifier(n_neighbors=5)
classifier.fit(x_train,y_train)

print(y_test)
y_pred = classifier.predict(x_test)
print("prediction are") 
print(y_pred)
