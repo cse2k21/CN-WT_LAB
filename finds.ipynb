import pandas as pd
import numpy as np
data = pd.read_csv('enjoysport.csv')
a = np.array(data.iloc[:])
print(a)
print("\nthe total number of traini9ng instances are : ",len(a))
print(len(a[0]))
num_att = len(a[0])-1
print("\n The initial hypothesis is : ")
hypo = ['0']*num_att
print(hypo)

for i in range(0,len(a)):
  if a[i][num_att] == 'yes':
    for j in range(0,num_att):
      if hypo[j] == '0' or hypo[j] == a[i][j] :
        hypo[j] = a[i][j]
      else:
        hypo[j] = '?'
    print("\n The hypothesis for the training instance ",i," is :\n",hypo)
print("\nThe maximumly specific hypothesis for the training instance is :")
print(hypo)

