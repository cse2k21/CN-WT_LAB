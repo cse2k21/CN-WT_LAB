import pandas as pd
import numpy as np
data = pd.read_csv('enjoysport.csv')
concept = np.array(data.iloc[:,0:-1])
target = np.array(data.iloc[:,-1])
print (concept)
print(target)
s_f,g_f = learn(concept,target)
print("Final specific hypothesis : ",s_f,sep="\n")
print("Final general hypothesis : ",g_f,sep="\n")

def learn(concept,target):
  specific_h = concept[0].copy()
  print("\nInitilizing of specific _h and general_h")
  print(specific_h)
  general_h = [["?" for i in range(len(specific_h))]for i in range(len(specific_h))]
  print(general_h)

  for i,h in enumerate(concept):
    print("\n H : ",h,"\n")
    print("for loop starts")
    if target[i] == "yes":
      print("\nif instance is positive")
      for j in range(0,len(specific_h)):
        if h[j] != specific_h[j]:
          specific_h[j] = '?'
          general_h[j][j] = '?'

    if target[i] == "no" :
       print("\nif instance is negitive")
       for j in range(0,len(specific_h)):
         if h[j] != specific_h[j]:
           general_h[j][j] = specific_h[j]
         else:
           general_h[j][j] = '?'
    print("steps of candidate elimination algo ",i+1)
    print(specific_h)
    print(general_h)
    print("\n\n")
  indices = [i for i,val in enumerate(general_h) if val==['?','?','?','?','?','?']]
  for i in indices:
    general_h.remove(['?','?','?','?','?','?'])
  return specific_h,general_h
